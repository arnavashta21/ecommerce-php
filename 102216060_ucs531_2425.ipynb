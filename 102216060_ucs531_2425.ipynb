{
  "nbformat": 4,
  "nbformat_minor": 0,
  "metadata": {
    "colab": {
      "provenance": [],
      "authorship_tag": "ABX9TyN//q90hpsNg/YGFDJ4GvrC",
      "include_colab_link": true
    },
    "kernelspec": {
      "name": "python3",
      "display_name": "Python 3"
    },
    "language_info": {
      "name": "python"
    }
  },
  "cells": [
    {
      "cell_type": "markdown",
      "metadata": {
        "id": "view-in-github",
        "colab_type": "text"
      },
      "source": [
        "<a href=\"https://colab.research.google.com/github/arnavashta21/ecommerce-php/blob/main/102216060_ucs531_2425.ipynb\" target=\"_parent\"><img src=\"https://colab.research.google.com/assets/colab-badge.svg\" alt=\"Open In Colab\"/></a>"
      ]
    },
    {
      "cell_type": "code",
      "source": [
        "import numpy as np"
      ],
      "metadata": {
        "id": "HQ0dWrstEOU1"
      },
      "execution_count": null,
      "outputs": []
    },
    {
      "cell_type": "code",
      "source": [
        "import random\n",
        "\n",
        "data = np.random.rand(50, 50)\n",
        "\n",
        "np.save('data.npy', data)"
      ],
      "metadata": {
        "id": "zLisUy42EP_G"
      },
      "execution_count": null,
      "outputs": []
    },
    {
      "cell_type": "code",
      "source": [
        "data = np.load('data.npy')\n",
        "\n",
        "first_row = data[0, :]\n",
        "\n",
        "for i in range(1, data.shape[0]):\n",
        "    data[i, :] = first_row\n",
        "\n",
        "print(data)"
      ],
      "metadata": {
        "colab": {
          "base_uri": "https://localhost:8080/"
        },
        "id": "LmQ0kmqgEV98",
        "outputId": "c6e89352-41c7-4417-f86a-1606ae08214b"
      },
      "execution_count": null,
      "outputs": [
        {
          "output_type": "stream",
          "name": "stdout",
          "text": [
            "[[0.48535138 0.36934172 0.75448789 ... 0.05326632 0.89156438 0.65749604]\n",
            " [0.48535138 0.36934172 0.75448789 ... 0.05326632 0.89156438 0.65749604]\n",
            " [0.48535138 0.36934172 0.75448789 ... 0.05326632 0.89156438 0.65749604]\n",
            " ...\n",
            " [0.48535138 0.36934172 0.75448789 ... 0.05326632 0.89156438 0.65749604]\n",
            " [0.48535138 0.36934172 0.75448789 ... 0.05326632 0.89156438 0.65749604]\n",
            " [0.48535138 0.36934172 0.75448789 ... 0.05326632 0.89156438 0.65749604]]\n"
          ]
        }
      ]
    },
    {
      "cell_type": "code",
      "source": [
        "import numpy as np\n",
        "\n",
        "matrix = np.random.randint(0, 10, (10, 10))  # Example matrix\n",
        "unique_elements = np.unique(matrix)\n",
        "\n",
        "grouped_matrix = {element: np.argwhere(matrix == element) for element in unique_elements}\n",
        "print(grouped_matrix)"
      ],
      "metadata": {
        "id": "0LwAYvk64O4T",
        "colab": {
          "base_uri": "https://localhost:8080/"
        },
        "outputId": "d130b721-6c15-4a19-948e-fbbd3c7db5c5"
      },
      "execution_count": null,
      "outputs": [
        {
          "output_type": "stream",
          "name": "stdout",
          "text": [
            "{0: array([[0, 2],\n",
            "       [0, 5],\n",
            "       [2, 6],\n",
            "       [3, 0],\n",
            "       [3, 2],\n",
            "       [6, 5],\n",
            "       [7, 3],\n",
            "       [7, 8],\n",
            "       [8, 3]]), 1: array([[0, 1],\n",
            "       [1, 3],\n",
            "       [2, 0],\n",
            "       [2, 9],\n",
            "       [3, 8],\n",
            "       [4, 3],\n",
            "       [4, 5],\n",
            "       [5, 2],\n",
            "       [5, 8],\n",
            "       [7, 6],\n",
            "       [7, 7]]), 2: array([[4, 1],\n",
            "       [4, 9],\n",
            "       [5, 6],\n",
            "       [7, 0],\n",
            "       [7, 4]]), 3: array([[0, 0],\n",
            "       [1, 2],\n",
            "       [1, 6],\n",
            "       [1, 9],\n",
            "       [4, 6],\n",
            "       [5, 0],\n",
            "       [6, 2],\n",
            "       [7, 5],\n",
            "       [8, 6],\n",
            "       [9, 0],\n",
            "       [9, 1]]), 4: array([[1, 8],\n",
            "       [2, 5],\n",
            "       [2, 8],\n",
            "       [3, 7],\n",
            "       [4, 0],\n",
            "       [4, 8],\n",
            "       [5, 3],\n",
            "       [8, 4],\n",
            "       [8, 5],\n",
            "       [8, 7]]), 5: array([[1, 0],\n",
            "       [1, 7],\n",
            "       [2, 1],\n",
            "       [2, 3],\n",
            "       [2, 4],\n",
            "       [2, 7],\n",
            "       [6, 7],\n",
            "       [8, 8],\n",
            "       [9, 6]]), 6: array([[0, 8],\n",
            "       [1, 4],\n",
            "       [4, 2],\n",
            "       [6, 3],\n",
            "       [6, 6],\n",
            "       [6, 8],\n",
            "       [8, 0],\n",
            "       [9, 8]]), 7: array([[0, 4],\n",
            "       [0, 6],\n",
            "       [1, 5],\n",
            "       [3, 9],\n",
            "       [4, 4],\n",
            "       [5, 4],\n",
            "       [5, 5],\n",
            "       [6, 1],\n",
            "       [8, 2],\n",
            "       [9, 9]]), 8: array([[3, 3],\n",
            "       [4, 7],\n",
            "       [5, 1],\n",
            "       [5, 7],\n",
            "       [5, 9],\n",
            "       [6, 4],\n",
            "       [6, 9],\n",
            "       [7, 1],\n",
            "       [8, 1],\n",
            "       [8, 9],\n",
            "       [9, 2],\n",
            "       [9, 3],\n",
            "       [9, 7]]), 9: array([[0, 3],\n",
            "       [0, 7],\n",
            "       [0, 9],\n",
            "       [1, 1],\n",
            "       [2, 2],\n",
            "       [3, 1],\n",
            "       [3, 4],\n",
            "       [3, 5],\n",
            "       [3, 6],\n",
            "       [6, 0],\n",
            "       [7, 2],\n",
            "       [7, 9],\n",
            "       [9, 4],\n",
            "       [9, 5]])}\n"
          ]
        }
      ]
    },
    {
      "cell_type": "code",
      "source": [
        "matA=np.random.rand(50,50)\n",
        "matB=np.random.rand(50,50)\n",
        "\n",
        "add=np.add(matA,matB)\n",
        "sub=np.subtract(matA,matB)\n",
        "\n",
        "print('Matrix A:')\n",
        "print(matA)\n",
        "print('\\nMatrix B:')\n",
        "print(matB)\n",
        "print('\\nAddition:')\n",
        "print(add)\n",
        "print('\\nSubtraction:')"
      ],
      "metadata": {
        "colab": {
          "base_uri": "https://localhost:8080/"
        },
        "id": "lrkucdWnD_Fb",
        "outputId": "7cae6158-f8e0-43c6-a6b3-1d45330d679e"
      },
      "execution_count": null,
      "outputs": [
        {
          "output_type": "stream",
          "name": "stdout",
          "text": [
            "Matrix A:\n",
            "[[0.76341625 0.31456153 0.35571568 ... 0.9950616  0.14903835 0.5928655 ]\n",
            " [0.37546007 0.93887325 0.94096286 ... 0.21899217 0.95737827 0.86254519]\n",
            " [0.5443988  0.24706932 0.56384422 ... 0.76212871 0.4277046  0.68120344]\n",
            " ...\n",
            " [0.09496811 0.86795241 0.90126556 ... 0.23928242 0.87937968 0.41682799]\n",
            " [0.61852631 0.33552374 0.46417946 ... 0.84075743 0.11056129 0.61201374]\n",
            " [0.61939672 0.34120287 0.48211357 ... 0.76387579 0.00276624 0.85213747]]\n",
            "\n",
            "Matrix B:\n",
            "[[0.4970256  0.96426806 0.21427076 ... 0.96536752 0.6456849  0.10387171]\n",
            " [0.21079007 0.55973938 0.77714093 ... 0.7208859  0.03063224 0.83381136]\n",
            " [0.13833241 0.27711285 0.5983001  ... 0.53543484 0.36322148 0.04883486]\n",
            " ...\n",
            " [0.65096011 0.7242936  0.83184045 ... 0.22453436 0.26768719 0.67025619]\n",
            " [0.73381214 0.42254855 0.09141101 ... 0.81964993 0.01963037 0.39802021]\n",
            " [0.4757324  0.37450966 0.47415494 ... 0.51512313 0.83707052 0.74604832]]\n",
            "\n",
            "Addition:\n",
            "[[1.26044185 1.27882959 0.56998645 ... 1.96042912 0.79472324 0.6967372 ]\n",
            " [0.58625014 1.49861263 1.71810379 ... 0.93987807 0.98801052 1.69635655]\n",
            " [0.68273121 0.52418217 1.16214431 ... 1.29756355 0.79092608 0.73003831]\n",
            " ...\n",
            " [0.74592822 1.59224601 1.73310601 ... 0.46381677 1.14706686 1.08708418]\n",
            " [1.35233845 0.75807229 0.55559047 ... 1.66040736 0.13019166 1.01003395]\n",
            " [1.09512913 0.71571252 0.95626851 ... 1.27899891 0.83983676 1.5981858 ]]\n",
            "\n",
            "Subtraction:\n"
          ]
        }
      ]
    },
    {
      "cell_type": "code",
      "source": [
        "import numpy as np\n",
        "\n",
        "def create_special_matrix(n):\n",
        "    # Initialize the matrix\n",
        "    matrix = np.zeros((n, n), dtype=int)\n",
        "\n",
        "    # Fill the matrix with alternating even and odd numbers\n",
        "    for i in range(n):\n",
        "        for j in range(n):\n",
        "            if (i + j) % 2 == 0:\n",
        "                matrix[i, j] = 2 * (i * n + j)  # Even number\n",
        "            else:\n",
        "                matrix[i, j] = 2 * (i * n + j) + 1  # Odd number\n",
        "\n",
        "    return matrix\n",
        "\n",
        "n = 5  # Change this to create a different size matrix\n",
        "matrix = create_special_matrix(n)\n",
        "\n",
        "# Print the resulting matrix\n",
        "print(\"Generated Matrix:\")\n",
        "print(matrix)\n"
      ],
      "metadata": {
        "colab": {
          "base_uri": "https://localhost:8080/"
        },
        "id": "hKalSiBlEsTP",
        "outputId": "e976d24d-2316-4d05-8f1f-f0247b069a83"
      },
      "execution_count": null,
      "outputs": [
        {
          "output_type": "stream",
          "name": "stdout",
          "text": [
            "Generated Matrix:\n",
            "[[ 0  3  4  7  8]\n",
            " [11 12 15 16 19]\n",
            " [20 23 24 27 28]\n",
            " [31 32 35 36 39]\n",
            " [40 43 44 47 48]]\n"
          ]
        }
      ]
    },
    {
      "cell_type": "code",
      "source": [
        "def row_wise_addition(tuple_matrix):\n",
        "    row_sums = []\n",
        "    for row in tuple_matrix:\n",
        "        row_sum = sum(row)\n",
        "        row_sums.append(row_sum)\n",
        "    return row_sums\n",
        "\n",
        "# Example usage\n",
        "tuple_matrix = (\n",
        "    (1, 2, 3),\n",
        "    (4, 5, 6),\n",
        "    (7, 8, 9),\n",
        "    (10, 11, 12)\n",
        ")\n",
        "\n",
        "# Perform row-wise element addition\n",
        "result = row_wise_addition(tuple_matrix)\n",
        "\n",
        "# Print the results\n",
        "print(\"Tuple Matrix:\")\n",
        "for row in tuple_matrix:\n",
        "    print(row)\n",
        "print(\"\\nRow-wise sums:\")\n",
        "print(result)\n"
      ],
      "metadata": {
        "colab": {
          "base_uri": "https://localhost:8080/"
        },
        "id": "jUtYGAilHhbc",
        "outputId": "86f73e53-d054-4221-8d36-daa28f04f899"
      },
      "execution_count": null,
      "outputs": [
        {
          "output_type": "stream",
          "name": "stdout",
          "text": [
            "Tuple Matrix:\n",
            "(1, 2, 3)\n",
            "(4, 5, 6)\n",
            "(7, 8, 9)\n",
            "(10, 11, 12)\n",
            "\n",
            "Row-wise sums:\n",
            "[6, 15, 24, 33]\n"
          ]
        }
      ]
    },
    {
      "cell_type": "code",
      "source": [],
      "metadata": {
        "id": "wdxmiHiTFSbM"
      },
      "execution_count": null,
      "outputs": []
    }
  ]
}